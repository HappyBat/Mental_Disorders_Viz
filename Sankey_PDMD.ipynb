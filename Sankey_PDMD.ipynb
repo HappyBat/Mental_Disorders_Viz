{
  "nbformat": 4,
  "nbformat_minor": 0,
  "metadata": {
    "colab": {
      "name": "Sankey_PDMD.ipynb",
      "provenance": [],
      "collapsed_sections": []
    },
    "kernelspec": {
      "name": "python3",
      "display_name": "Python 3"
    }
  },
  "cells": [
    {
      "cell_type": "code",
      "metadata": {
        "id": "Ih6WJ0MfueuZ",
        "colab_type": "code",
        "colab": {}
      },
      "source": [
        "import pandas as pd\n",
        "from google.colab import files\n",
        "import json\n",
        "from collections import OrderedDict "
      ],
      "execution_count": 0,
      "outputs": []
    },
    {
      "cell_type": "code",
      "metadata": {
        "id": "XQgGeD9JuhQa",
        "colab_type": "code",
        "outputId": "4a91c0a3-f85f-43a6-8e88-5074a92106f2",
        "colab": {
          "resources": {
            "http://localhost:8080/nbextensions/google.colab/files.js": {
              "data": "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",
              "ok": true,
              "headers": [
                [
                  "content-type",
                  "application/javascript"
                ]
              ],
              "status": 200,
              "status_text": ""
            }
          },
          "base_uri": "https://localhost:8080/",
          "height": 75
        }
      },
      "source": [
        "uploaded = files.upload()"
      ],
      "execution_count": 0,
      "outputs": [
        {
          "output_type": "display_data",
          "data": {
            "text/html": [
              "\n",
              "     <input type=\"file\" id=\"files-d640500f-8281-4647-94c2-3a181935de71\" name=\"files[]\" multiple disabled />\n",
              "     <output id=\"result-d640500f-8281-4647-94c2-3a181935de71\">\n",
              "      Upload widget is only available when the cell has been executed in the\n",
              "      current browser session. Please rerun this cell to enable.\n",
              "      </output>\n",
              "      <script src=\"/nbextensions/google.colab/files.js\"></script> "
            ],
            "text/plain": [
              "<IPython.core.display.HTML object>"
            ]
          },
          "metadata": {
            "tags": []
          }
        },
        {
          "output_type": "stream",
          "text": [
            "Saving sankey_PtoM_cleaned.csv to sankey_PtoM_cleaned (2).csv\n"
          ],
          "name": "stdout"
        }
      ]
    },
    {
      "cell_type": "code",
      "metadata": {
        "id": "kcqVrnlmyrD1",
        "colab_type": "code",
        "outputId": "309cd9b1-f660-4828-cec0-1035342a7216",
        "colab": {
          "base_uri": "https://localhost:8080/",
          "height": 135
        }
      },
      "source": [
        "df = pd.read_csv(\"sankey2_cleaned.csv\")\n",
        "df.head(3)"
      ],
      "execution_count": 0,
      "outputs": [
        {
          "output_type": "execute_result",
          "data": {
            "text/html": [
              "<div>\n",
              "<style scoped>\n",
              "    .dataframe tbody tr th:only-of-type {\n",
              "        vertical-align: middle;\n",
              "    }\n",
              "\n",
              "    .dataframe tbody tr th {\n",
              "        vertical-align: top;\n",
              "    }\n",
              "\n",
              "    .dataframe thead th {\n",
              "        text-align: right;\n",
              "    }\n",
              "</style>\n",
              "<table border=\"1\" class=\"dataframe\">\n",
              "  <thead>\n",
              "    <tr style=\"text-align: right;\">\n",
              "      <th></th>\n",
              "      <th>Physical Disease</th>\n",
              "      <th>Mental Disorder</th>\n",
              "      <th>Hazard Ratio</th>\n",
              "    </tr>\n",
              "  </thead>\n",
              "  <tbody>\n",
              "    <tr>\n",
              "      <th>0</th>\n",
              "      <td>Arthritis</td>\n",
              "      <td>Any affective disorder</td>\n",
              "      <td>NaN</td>\n",
              "    </tr>\n",
              "    <tr>\n",
              "      <th>1</th>\n",
              "      <td>Arthritis</td>\n",
              "      <td>Any anxiety disorder</td>\n",
              "      <td>NaN</td>\n",
              "    </tr>\n",
              "    <tr>\n",
              "      <th>2</th>\n",
              "      <td>Arthritis</td>\n",
              "      <td>Any behavior disorder</td>\n",
              "      <td>NaN</td>\n",
              "    </tr>\n",
              "  </tbody>\n",
              "</table>\n",
              "</div>"
            ],
            "text/plain": [
              "  Physical Disease         Mental Disorder  Hazard Ratio\n",
              "0        Arthritis  Any affective disorder           NaN\n",
              "1        Arthritis    Any anxiety disorder           NaN\n",
              "2        Arthritis   Any behavior disorder           NaN"
            ]
          },
          "metadata": {
            "tags": []
          },
          "execution_count": 209
        }
      ]
    },
    {
      "cell_type": "markdown",
      "metadata": {
        "id": "ziAHzwzfr2ba",
        "colab_type": "text"
      },
      "source": [
        "Remove missing values\n"
      ]
    },
    {
      "cell_type": "code",
      "metadata": {
        "id": "4ahQFJ4odEEk",
        "colab_type": "code",
        "colab": {}
      },
      "source": [
        "# fill in 0 where there are NaNs\n",
        "df.fillna(0, inplace = True)"
      ],
      "execution_count": 0,
      "outputs": []
    },
    {
      "cell_type": "code",
      "metadata": {
        "id": "22d4i0xgufot",
        "colab_type": "code",
        "colab": {}
      },
      "source": [
        "# delete nans\n",
        "df = df.drop(df[df[\"Hazard Ratio\"]==0.00].index)\n"
      ],
      "execution_count": 0,
      "outputs": []
    },
    {
      "cell_type": "markdown",
      "metadata": {
        "id": "G7LXXK02r5d_",
        "colab_type": "text"
      },
      "source": [
        "Creating nodes values df and list"
      ]
    },
    {
      "cell_type": "code",
      "metadata": {
        "id": "_o0GFrCcvFg1",
        "colab_type": "code",
        "outputId": "62a3e6c5-f7f7-4d4b-e728-55e41682875f",
        "colab": {
          "base_uri": "https://localhost:8080/",
          "height": 487
        }
      },
      "source": [
        "# nodes\n",
        "df1 = pd.DataFrame()\n",
        "df1[\"node\"] = [0,1,2,3,4,5,6,7,8,9,10,11,12,13,14]\n",
        "#df[\"source\"].replace(to_replace =[\"Any affective disorder\",\"Any anxiety disorder\", \"Any behavior disorder\", \"Any substance use disorder\", \"Any eating disorder\",\"Any mental disorder\"],value =[1,2,3,4,5,6] )    \n",
        "df1[\"name\"] = [\"Any physical disease\",\"Epilepsy/seizures\",\"Disease of digestive system\", \"Diabetes/high blood sugar\",\"Asthma\",\"Heart disease\",\"Skin disease\",\"Seasonal allergy\",\"Arthritis\",\"Any mental disorder\",\"Any eating disorder\",\"Any substance use disorder\",\"Any behavior disorder\",\"Any anxiety disorder\",\"Any affective disorder\"]\n",
        "df1"
      ],
      "execution_count": 0,
      "outputs": [
        {
          "output_type": "execute_result",
          "data": {
            "text/html": [
              "<div>\n",
              "<style scoped>\n",
              "    .dataframe tbody tr th:only-of-type {\n",
              "        vertical-align: middle;\n",
              "    }\n",
              "\n",
              "    .dataframe tbody tr th {\n",
              "        vertical-align: top;\n",
              "    }\n",
              "\n",
              "    .dataframe thead th {\n",
              "        text-align: right;\n",
              "    }\n",
              "</style>\n",
              "<table border=\"1\" class=\"dataframe\">\n",
              "  <thead>\n",
              "    <tr style=\"text-align: right;\">\n",
              "      <th></th>\n",
              "      <th>node</th>\n",
              "      <th>name</th>\n",
              "    </tr>\n",
              "  </thead>\n",
              "  <tbody>\n",
              "    <tr>\n",
              "      <th>0</th>\n",
              "      <td>0</td>\n",
              "      <td>Any physical disease</td>\n",
              "    </tr>\n",
              "    <tr>\n",
              "      <th>1</th>\n",
              "      <td>1</td>\n",
              "      <td>Epilepsy/seizures</td>\n",
              "    </tr>\n",
              "    <tr>\n",
              "      <th>2</th>\n",
              "      <td>2</td>\n",
              "      <td>Disease of digestive system</td>\n",
              "    </tr>\n",
              "    <tr>\n",
              "      <th>3</th>\n",
              "      <td>3</td>\n",
              "      <td>Diabetes/high blood sugar</td>\n",
              "    </tr>\n",
              "    <tr>\n",
              "      <th>4</th>\n",
              "      <td>4</td>\n",
              "      <td>Asthma</td>\n",
              "    </tr>\n",
              "    <tr>\n",
              "      <th>5</th>\n",
              "      <td>5</td>\n",
              "      <td>Heart disease</td>\n",
              "    </tr>\n",
              "    <tr>\n",
              "      <th>6</th>\n",
              "      <td>6</td>\n",
              "      <td>Skin disease</td>\n",
              "    </tr>\n",
              "    <tr>\n",
              "      <th>7</th>\n",
              "      <td>7</td>\n",
              "      <td>Seasonal allergy</td>\n",
              "    </tr>\n",
              "    <tr>\n",
              "      <th>8</th>\n",
              "      <td>8</td>\n",
              "      <td>Arthritis</td>\n",
              "    </tr>\n",
              "    <tr>\n",
              "      <th>9</th>\n",
              "      <td>9</td>\n",
              "      <td>Any mental disorder</td>\n",
              "    </tr>\n",
              "    <tr>\n",
              "      <th>10</th>\n",
              "      <td>10</td>\n",
              "      <td>Any eating disorder</td>\n",
              "    </tr>\n",
              "    <tr>\n",
              "      <th>11</th>\n",
              "      <td>11</td>\n",
              "      <td>Any substance use disorder</td>\n",
              "    </tr>\n",
              "    <tr>\n",
              "      <th>12</th>\n",
              "      <td>12</td>\n",
              "      <td>Any behavior disorder</td>\n",
              "    </tr>\n",
              "    <tr>\n",
              "      <th>13</th>\n",
              "      <td>13</td>\n",
              "      <td>Any anxiety disorder</td>\n",
              "    </tr>\n",
              "    <tr>\n",
              "      <th>14</th>\n",
              "      <td>14</td>\n",
              "      <td>Any affective disorder</td>\n",
              "    </tr>\n",
              "  </tbody>\n",
              "</table>\n",
              "</div>"
            ],
            "text/plain": [
              "    node                         name\n",
              "0      0         Any physical disease\n",
              "1      1            Epilepsy/seizures\n",
              "2      2  Disease of digestive system\n",
              "3      3    Diabetes/high blood sugar\n",
              "4      4                       Asthma\n",
              "5      5                Heart disease\n",
              "6      6                 Skin disease\n",
              "7      7             Seasonal allergy\n",
              "8      8                    Arthritis\n",
              "9      9          Any mental disorder\n",
              "10    10          Any eating disorder\n",
              "11    11   Any substance use disorder\n",
              "12    12        Any behavior disorder\n",
              "13    13         Any anxiety disorder\n",
              "14    14       Any affective disorder"
            ]
          },
          "metadata": {
            "tags": []
          },
          "execution_count": 212
        }
      ]
    },
    {
      "cell_type": "code",
      "metadata": {
        "id": "fXbp0hpD5nMY",
        "colab_type": "code",
        "colab": {}
      },
      "source": [
        "df1[\"node\"] = df1.node.astype(int)"
      ],
      "execution_count": 0,
      "outputs": []
    },
    {
      "cell_type": "code",
      "metadata": {
        "id": "7623EYEGvkED",
        "colab_type": "code",
        "outputId": "227608a7-3884-4781-920b-c30519ca19f8",
        "colab": {
          "base_uri": "https://localhost:8080/",
          "height": 284
        }
      },
      "source": [
        "# create nodes values list of dictionaries\n",
        "nodes_list = [node for node in df1.T.to_dict().values()]\n",
        "nodes_list"
      ],
      "execution_count": 0,
      "outputs": [
        {
          "output_type": "execute_result",
          "data": {
            "text/plain": [
              "[{'name': 'Any physical disease', 'node': 0},\n",
              " {'name': 'Epilepsy/seizures', 'node': 1},\n",
              " {'name': 'Disease of digestive system', 'node': 2},\n",
              " {'name': 'Diabetes/high blood sugar', 'node': 3},\n",
              " {'name': 'Asthma', 'node': 4},\n",
              " {'name': 'Heart disease', 'node': 5},\n",
              " {'name': 'Skin disease', 'node': 6},\n",
              " {'name': 'Seasonal allergy', 'node': 7},\n",
              " {'name': 'Arthritis', 'node': 8},\n",
              " {'name': 'Any mental disorder', 'node': 9},\n",
              " {'name': 'Any eating disorder', 'node': 10},\n",
              " {'name': 'Any substance use disorder', 'node': 11},\n",
              " {'name': 'Any behavior disorder', 'node': 12},\n",
              " {'name': 'Any anxiety disorder', 'node': 13},\n",
              " {'name': 'Any affective disorder', 'node': 14}]"
            ]
          },
          "metadata": {
            "tags": []
          },
          "execution_count": 214
        }
      ]
    },
    {
      "cell_type": "markdown",
      "metadata": {
        "id": "XUAvFc6EsmyE",
        "colab_type": "text"
      },
      "source": [
        "Creating links values df and list\n"
      ]
    },
    {
      "cell_type": "code",
      "metadata": {
        "id": "8JKRDwhjVP6v",
        "colab_type": "code",
        "colab": {}
      },
      "source": [
        "# adding columns\n",
        "df[\"source\"] = df [\"Mental Disorder\"]\n",
        "df[\"target\"] = df [\"Physical Disease\"]"
      ],
      "execution_count": 0,
      "outputs": []
    },
    {
      "cell_type": "code",
      "metadata": {
        "id": "VKLkQQLLcYUw",
        "colab_type": "code",
        "outputId": "3dccc4e9-b575-467d-d9ac-d43062ef2b95",
        "colab": {
          "base_uri": "https://localhost:8080/",
          "height": 194
        }
      },
      "source": [
        "# links replacing string values with integers\n",
        "df2 = pd.DataFrame()\n",
        "df2[\"source\"] = df[\"source\"].replace(to_replace =[\"Any mental disorder\",\"Any eating disorder\",\"Any substance use disorder\",\"Any behavior disorder\",\"Any anxiety disorder\",\"Any affective disorder\"],value =[9,10,11,12,13,14] )    \n",
        "df2[\"target\"] = df[\"target\"].replace(to_replace =[\"Any physical disease\",\"Epilepsy/seizures\",\"Disease of digestive system\", \"Diabetes/high blood sugar\",\"Asthma\",\"Heart disease\",\"Skin disease\",\"Seasonal allergy\",\"Arthritis\"], value =[0,1,2,3,4,5,6,7,8])\n",
        "df2[\"value\"]= df[\"Hazard Ratio\"]\n",
        "\n",
        "df2.head(5)                                      "
      ],
      "execution_count": 0,
      "outputs": [
        {
          "output_type": "execute_result",
          "data": {
            "text/html": [
              "<div>\n",
              "<style scoped>\n",
              "    .dataframe tbody tr th:only-of-type {\n",
              "        vertical-align: middle;\n",
              "    }\n",
              "\n",
              "    .dataframe tbody tr th {\n",
              "        vertical-align: top;\n",
              "    }\n",
              "\n",
              "    .dataframe thead th {\n",
              "        text-align: right;\n",
              "    }\n",
              "</style>\n",
              "<table border=\"1\" class=\"dataframe\">\n",
              "  <thead>\n",
              "    <tr style=\"text-align: right;\">\n",
              "      <th></th>\n",
              "      <th>source</th>\n",
              "      <th>target</th>\n",
              "      <th>value</th>\n",
              "    </tr>\n",
              "  </thead>\n",
              "  <tbody>\n",
              "    <tr>\n",
              "      <th>3</th>\n",
              "      <td>11</td>\n",
              "      <td>8</td>\n",
              "      <td>0.39</td>\n",
              "    </tr>\n",
              "    <tr>\n",
              "      <th>6</th>\n",
              "      <td>14</td>\n",
              "      <td>7</td>\n",
              "      <td>1.08</td>\n",
              "    </tr>\n",
              "    <tr>\n",
              "      <th>7</th>\n",
              "      <td>13</td>\n",
              "      <td>7</td>\n",
              "      <td>0.84</td>\n",
              "    </tr>\n",
              "    <tr>\n",
              "      <th>8</th>\n",
              "      <td>12</td>\n",
              "      <td>7</td>\n",
              "      <td>0.90</td>\n",
              "    </tr>\n",
              "    <tr>\n",
              "      <th>9</th>\n",
              "      <td>11</td>\n",
              "      <td>7</td>\n",
              "      <td>0.88</td>\n",
              "    </tr>\n",
              "  </tbody>\n",
              "</table>\n",
              "</div>"
            ],
            "text/plain": [
              "   source  target  value\n",
              "3      11       8   0.39\n",
              "6      14       7   1.08\n",
              "7      13       7   0.84\n",
              "8      12       7   0.90\n",
              "9      11       7   0.88"
            ]
          },
          "metadata": {
            "tags": []
          },
          "execution_count": 220
        }
      ]
    },
    {
      "cell_type": "code",
      "metadata": {
        "id": "SAtCHWZo3ntI",
        "colab_type": "code",
        "colab": {}
      },
      "source": [
        "df2[\"target\"] = df2.target.values[::-1] \n",
        "df2"
      ],
      "execution_count": 0,
      "outputs": []
    },
    {
      "cell_type": "code",
      "metadata": {
        "id": "OqsFfvw0fHdf",
        "colab_type": "code",
        "outputId": "75480eef-80d5-4cad-ff2d-085a744f5f1b",
        "colab": {
          "base_uri": "https://localhost:8080/",
          "height": 515
        }
      },
      "source": [
        "links_list = [{k:(int(v) if (k is not \"value\") else v) for k, v in link.items()} for link in df2.T.to_dict().values()]\n",
        "links_list"
      ],
      "execution_count": 0,
      "outputs": [
        {
          "output_type": "execute_result",
          "data": {
            "text/plain": [
              "[{'source': 11, 'target': 0, 'value': 0.39},\n",
              " {'source': 14, 'target': 0, 'value': 1.08},\n",
              " {'source': 13, 'target': 0, 'value': 0.84},\n",
              " {'source': 12, 'target': 0, 'value': 0.9},\n",
              " {'source': 11, 'target': 1, 'value': 0.88},\n",
              " {'source': 10, 'target': 1, 'value': 1.39},\n",
              " {'source': 14, 'target': 1, 'value': 0.81},\n",
              " {'source': 12, 'target': 1, 'value': 0.83},\n",
              " {'source': 11, 'target': 1, 'value': 0.81},\n",
              " {'source': 13, 'target': 2, 'value': 1.92},\n",
              " {'source': 10, 'target': 3, 'value': 2.7},\n",
              " {'source': 9, 'target': 3, 'value': 1.39},\n",
              " {'source': 14, 'target': 4, 'value': 1.11},\n",
              " {'source': 13, 'target': 4, 'value': 1.13},\n",
              " {'source': 12, 'target': 4, 'value': 1.13},\n",
              " {'source': 9, 'target': 4, 'value': 1.21},\n",
              " {'source': 14, 'target': 5, 'value': 0.43},\n",
              " {'source': 10, 'target': 5, 'value': 0.44},\n",
              " {'source': 13, 'target': 5, 'value': 1.47},\n",
              " {'source': 14, 'target': 6, 'value': 2.46},\n",
              " {'source': 13, 'target': 6, 'value': 1.4},\n",
              " {'source': 11, 'target': 6, 'value': 0.53},\n",
              " {'source': 10, 'target': 7, 'value': 5.55},\n",
              " {'source': 9, 'target': 7, 'value': 1.27},\n",
              " {'source': 13, 'target': 7, 'value': 1.05},\n",
              " {'source': 11, 'target': 7, 'value': 0.88},\n",
              " {'source': 10, 'target': 7, 'value': 1.44},\n",
              " {'source': 9, 'target': 8, 'value': 1.1}]"
            ]
          },
          "metadata": {
            "tags": []
          },
          "execution_count": 223
        }
      ]
    },
    {
      "cell_type": "code",
      "metadata": {
        "id": "FH5G-UNq9Zno",
        "colab_type": "code",
        "colab": {}
      },
      "source": [
        "lists = []\n",
        "\n",
        "for link in df2.T.to_dict().values():\n",
        "    for key in link:\n",
        "        link[key] = int(link[key])\n",
        "    lists.append(link)\n",
        "lists\n"
      ],
      "execution_count": 0,
      "outputs": []
    },
    {
      "cell_type": "markdown",
      "metadata": {
        "id": "Gfzf9wFws83d",
        "colab_type": "text"
      },
      "source": [
        "Creating Dictionairy and saving as json\n"
      ]
    },
    {
      "cell_type": "code",
      "metadata": {
        "id": "Y8pb0dQhcq7E",
        "colab_type": "code",
        "outputId": "6e0caaea-823e-4037-a249-6aa0fa19bc82",
        "colab": {
          "base_uri": "https://localhost:8080/",
          "height": 817
        }
      },
      "source": [
        "outer_dic = OrderedDict([(\"nodes\",nodes_list),(\"links\", links_list)])\n",
        "outer_dic"
      ],
      "execution_count": 0,
      "outputs": [
        {
          "output_type": "execute_result",
          "data": {
            "text/plain": [
              "OrderedDict([('nodes',\n",
              "              [{'name': 'Any physical disease', 'node': 0},\n",
              "               {'name': 'Epilepsy/seizures', 'node': 1},\n",
              "               {'name': 'Disease of digestive system', 'node': 2},\n",
              "               {'name': 'Diabetes/high blood sugar', 'node': 3},\n",
              "               {'name': 'Asthma', 'node': 4},\n",
              "               {'name': 'Heart disease', 'node': 5},\n",
              "               {'name': 'Skin disease', 'node': 6},\n",
              "               {'name': 'Seasonal allergy', 'node': 7},\n",
              "               {'name': 'Arthritis', 'node': 8},\n",
              "               {'name': 'Any mental disorder', 'node': 9},\n",
              "               {'name': 'Any eating disorder', 'node': 10},\n",
              "               {'name': 'Any substance use disorder', 'node': 11},\n",
              "               {'name': 'Any behavior disorder', 'node': 12},\n",
              "               {'name': 'Any anxiety disorder', 'node': 13},\n",
              "               {'name': 'Any affective disorder', 'node': 14}]),\n",
              "             ('links',\n",
              "              [{'source': 11, 'target': 0, 'value': 0.39},\n",
              "               {'source': 14, 'target': 0, 'value': 1.08},\n",
              "               {'source': 13, 'target': 0, 'value': 0.84},\n",
              "               {'source': 12, 'target': 0, 'value': 0.9},\n",
              "               {'source': 11, 'target': 1, 'value': 0.88},\n",
              "               {'source': 10, 'target': 1, 'value': 1.39},\n",
              "               {'source': 14, 'target': 1, 'value': 0.81},\n",
              "               {'source': 12, 'target': 1, 'value': 0.83},\n",
              "               {'source': 11, 'target': 1, 'value': 0.81},\n",
              "               {'source': 13, 'target': 2, 'value': 1.92},\n",
              "               {'source': 10, 'target': 3, 'value': 2.7},\n",
              "               {'source': 9, 'target': 3, 'value': 1.39},\n",
              "               {'source': 14, 'target': 4, 'value': 1.11},\n",
              "               {'source': 13, 'target': 4, 'value': 1.13},\n",
              "               {'source': 12, 'target': 4, 'value': 1.13},\n",
              "               {'source': 9, 'target': 4, 'value': 1.21},\n",
              "               {'source': 14, 'target': 5, 'value': 0.43},\n",
              "               {'source': 10, 'target': 5, 'value': 0.44},\n",
              "               {'source': 13, 'target': 5, 'value': 1.47},\n",
              "               {'source': 14, 'target': 6, 'value': 2.46},\n",
              "               {'source': 13, 'target': 6, 'value': 1.4},\n",
              "               {'source': 11, 'target': 6, 'value': 0.53},\n",
              "               {'source': 10, 'target': 7, 'value': 5.55},\n",
              "               {'source': 9, 'target': 7, 'value': 1.27},\n",
              "               {'source': 13, 'target': 7, 'value': 1.05},\n",
              "               {'source': 11, 'target': 7, 'value': 0.88},\n",
              "               {'source': 10, 'target': 7, 'value': 1.44},\n",
              "               {'source': 9, 'target': 8, 'value': 1.1}])])"
            ]
          },
          "metadata": {
            "tags": []
          },
          "execution_count": 226
        }
      ]
    },
    {
      "cell_type": "code",
      "metadata": {
        "id": "vuJd6358wFhI",
        "colab_type": "code",
        "colab": {}
      },
      "source": [
        "with open('PD_MH.json', 'w') as json_file:\n",
        "  json.dump(outer_dic, json_file)"
      ],
      "execution_count": 0,
      "outputs": []
    },
    {
      "cell_type": "markdown",
      "metadata": {
        "id": "QQ2eKGyBdWfW",
        "colab_type": "text"
      },
      "source": [
        "Download"
      ]
    },
    {
      "cell_type": "code",
      "metadata": {
        "id": "dhAYdR-PGoWO",
        "colab_type": "code",
        "colab": {}
      },
      "source": [
        "files.download(\"PD_MH.json\")"
      ],
      "execution_count": 0,
      "outputs": []
    }
  ]
}