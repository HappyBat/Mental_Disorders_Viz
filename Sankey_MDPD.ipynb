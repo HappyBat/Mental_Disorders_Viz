{
  "nbformat": 4,
  "nbformat_minor": 0,
  "metadata": {
    "colab": {
      "name": "Sankey_MDPD.ipynb",
      "provenance": [],
      "collapsed_sections": []
    },
    "kernelspec": {
      "name": "python3",
      "display_name": "Python 3"
    }
  },
  "cells": [
    {
      "cell_type": "code",
      "metadata": {
        "id": "Ih6WJ0MfueuZ",
        "colab_type": "code",
        "colab": {}
      },
      "source": [
        "import pandas as pd\n",
        "from google.colab import files\n",
        "import json"
      ],
      "execution_count": 0,
      "outputs": []
    },
    {
      "cell_type": "code",
      "metadata": {
        "id": "XQgGeD9JuhQa",
        "colab_type": "code",
        "outputId": "cdcbed4f-8a74-414f-b96f-403ebfe1f3a2",
        "colab": {
          "resources": {
            "http://localhost:8080/nbextensions/google.colab/files.js": {
              "data": "Ly8gQ29weXJpZ2h0IDIwMTcgR29vZ2xlIExMQwovLwovLyBMaWNlbnNlZCB1bmRlciB0aGUgQXBhY2hlIExpY2Vuc2UsIFZlcnNpb24gMi4wICh0aGUgIkxpY2Vuc2UiKTsKLy8geW91IG1heSBub3QgdXNlIHRoaXMgZmlsZSBleGNlcHQgaW4gY29tcGxpYW5jZSB3aXRoIHRoZSBMaWNlbnNlLgovLyBZb3UgbWF5IG9idGFpbiBhIGNvcHkgb2YgdGhlIExpY2Vuc2UgYXQKLy8KLy8gICAgICBodHRwOi8vd3d3LmFwYWNoZS5vcmcvbGljZW5zZXMvTElDRU5TRS0yLjAKLy8KLy8gVW5sZXNzIHJlcXVpcmVkIGJ5IGFwcGxpY2FibGUgbGF3IG9yIGFncmVlZCB0byBpbiB3cml0aW5nLCBzb2Z0d2FyZQovLyBkaXN0cmlidXRlZCB1bmRlciB0aGUgTGljZW5zZSBpcyBkaXN0cmlidXRlZCBvbiBhbiAiQVMgSVMiIEJBU0lTLAovLyBXSVRIT1VUIFdBUlJBTlRJRVMgT1IgQ09ORElUSU9OUyBPRiBBTlkgS0lORCwgZWl0aGVyIGV4cHJlc3Mgb3IgaW1wbGllZC4KLy8gU2VlIHRoZSBMaWNlbnNlIGZvciB0aGUgc3BlY2lmaWMgbGFuZ3VhZ2UgZ292ZXJuaW5nIHBlcm1pc3Npb25zIGFuZAovLyBsaW1pdGF0aW9ucyB1bmRlciB0aGUgTGljZW5zZS4KCi8qKgogKiBAZmlsZW92ZXJ2aWV3IEhlbHBlcnMgZm9yIGdvb2dsZS5jb2xhYiBQeXRob24gbW9kdWxlLgogKi8KKGZ1bmN0aW9uKHNjb3BlKSB7CmZ1bmN0aW9uIHNwYW4odGV4dCwgc3R5bGVBdHRyaWJ1dGVzID0ge30pIHsKICBjb25zdCBlbGVtZW50ID0gZG9jdW1lbnQuY3JlYXRlRWxlbWVudCgnc3BhbicpOwogIGVsZW1lbnQudGV4dENvbnRlbnQgPSB0ZXh0OwogIGZvciAoY29uc3Qga2V5IG9mIE9iamVjdC5rZXlzKHN0eWxlQXR0cmlidXRlcykpIHsKICAgIGVsZW1lbnQuc3R5bGVba2V5XSA9IHN0eWxlQXR0cmlidXRlc1trZXldOwogIH0KICByZXR1cm4gZWxlbWVudDsKfQoKLy8gTWF4IG51bWJlciBvZiBieXRlcyB3aGljaCB3aWxsIGJlIHVwbG9hZGVkIGF0IGEgdGltZS4KY29uc3QgTUFYX1BBWUxPQURfU0laRSA9IDEwMCAqIDEwMjQ7Ci8vIE1heCBhbW91bnQgb2YgdGltZSB0byBibG9jayB3YWl0aW5nIGZvciB0aGUgdXNlci4KY29uc3QgRklMRV9DSEFOR0VfVElNRU9VVF9NUyA9IDMwICogMTAwMDsKCmZ1bmN0aW9uIF91cGxvYWRGaWxlcyhpbnB1dElkLCBvdXRwdXRJZCkgewogIGNvbnN0IHN0ZXBzID0gdXBsb2FkRmlsZXNTdGVwKGlucHV0SWQsIG91dHB1dElkKTsKICBjb25zdCBvdXRwdXRFbGVtZW50ID0gZG9jdW1lbnQuZ2V0RWxlbWVudEJ5SWQob3V0cHV0SWQpOwogIC8vIENhY2hlIHN0ZXBzIG9uIHRoZSBvdXRwdXRFbGVtZW50IHRvIG1ha2UgaXQgYXZhaWxhYmxlIGZvciB0aGUgbmV4dCBjYWxsCiAgLy8gdG8gdXBsb2FkRmlsZXNDb250aW51ZSBmcm9tIFB5dGhvbi4KICBvdXRwdXRFbGVtZW50LnN0ZXBzID0gc3RlcHM7CgogIHJldHVybiBfdXBsb2FkRmlsZXNDb250aW51ZShvdXRwdXRJZCk7Cn0KCi8vIFRoaXMgaXMgcm91Z2hseSBhbiBhc3luYyBnZW5lcmF0b3IgKG5vdCBzdXBwb3J0ZWQgaW4gdGhlIGJyb3dzZXIgeWV0KSwKLy8gd2hlcmUgdGhlcmUgYXJlIG11bHRpcGxlIGFzeW5jaHJvbm91cyBzdGVwcyBhbmQgdGhlIFB5dGhvbiBzaWRlIGlzIGdvaW5nCi8vIHRvIHBvbGwgZm9yIGNvbXBsZXRpb24gb2YgZWFjaCBzdGVwLgovLyBUaGlzIHVzZXMgYSBQcm9taXNlIHRvIGJsb2NrIHRoZSBweXRob24gc2lkZSBvbiBjb21wbGV0aW9uIG9mIGVhY2ggc3RlcCwKLy8gdGhlbiBwYXNzZXMgdGhlIHJlc3VsdCBvZiB0aGUgcHJldmlvdXMgc3RlcCBhcyB0aGUgaW5wdXQgdG8gdGhlIG5leHQgc3RlcC4KZnVuY3Rpb24gX3VwbG9hZEZpbGVzQ29udGludWUob3V0cHV0SWQpIHsKICBjb25zdCBvdXRwdXRFbGVtZW50ID0gZG9jdW1lbnQuZ2V0RWxlbWVudEJ5SWQob3V0cHV0SWQpOwogIGNvbnN0IHN0ZXBzID0gb3V0cHV0RWxlbWVudC5zdGVwczsKCiAgY29uc3QgbmV4dCA9IHN0ZXBzLm5leHQob3V0cHV0RWxlbWVudC5sYXN0UHJvbWlzZVZhbHVlKTsKICByZXR1cm4gUHJvbWlzZS5yZXNvbHZlKG5leHQudmFsdWUucHJvbWlzZSkudGhlbigodmFsdWUpID0+IHsKICAgIC8vIENhY2hlIHRoZSBsYXN0IHByb21pc2UgdmFsdWUgdG8gbWFrZSBpdCBhdmFpbGFibGUgdG8gdGhlIG5leHQKICAgIC8vIHN0ZXAgb2YgdGhlIGdlbmVyYXRvci4KICAgIG91dHB1dEVsZW1lbnQubGFzdFByb21pc2VWYWx1ZSA9IHZhbHVlOwogICAgcmV0dXJuIG5leHQudmFsdWUucmVzcG9uc2U7CiAgfSk7Cn0KCi8qKgogKiBHZW5lcmF0b3IgZnVuY3Rpb24gd2hpY2ggaXMgY2FsbGVkIGJldHdlZW4gZWFjaCBhc3luYyBzdGVwIG9mIHRoZSB1cGxvYWQKICogcHJvY2Vzcy4KICogQHBhcmFtIHtzdHJpbmd9IGlucHV0SWQgRWxlbWVudCBJRCBvZiB0aGUgaW5wdXQgZmlsZSBwaWNrZXIgZWxlbWVudC4KICogQHBhcmFtIHtzdHJpbmd9IG91dHB1dElkIEVsZW1lbnQgSUQgb2YgdGhlIG91dHB1dCBkaXNwbGF5LgogKiBAcmV0dXJuIHshSXRlcmFibGU8IU9iamVjdD59IEl0ZXJhYmxlIG9mIG5leHQgc3RlcHMuCiAqLwpmdW5jdGlvbiogdXBsb2FkRmlsZXNTdGVwKGlucHV0SWQsIG91dHB1dElkKSB7CiAgY29uc3QgaW5wdXRFbGVtZW50ID0gZG9jdW1lbnQuZ2V0RWxlbWVudEJ5SWQoaW5wdXRJZCk7CiAgaW5wdXRFbGVtZW50LmRpc2FibGVkID0gZmFsc2U7CgogIGNvbnN0IG91dHB1dEVsZW1lbnQgPSBkb2N1bWVudC5nZXRFbGVtZW50QnlJZChvdXRwdXRJZCk7CiAgb3V0cHV0RWxlbWVudC5pbm5lckhUTUwgPSAnJzsKCiAgY29uc3QgcGlja2VkUHJvbWlzZSA9IG5ldyBQcm9taXNlKChyZXNvbHZlKSA9PiB7CiAgICBpbnB1dEVsZW1lbnQuYWRkRXZlbnRMaXN0ZW5lcignY2hhbmdlJywgKGUpID0+IHsKICAgICAgcmVzb2x2ZShlLnRhcmdldC5maWxlcyk7CiAgICB9KTsKICB9KTsKCiAgY29uc3QgY2FuY2VsID0gZG9jdW1lbnQuY3JlYXRlRWxlbWVudCgnYnV0dG9uJyk7CiAgaW5wdXRFbGVtZW50LnBhcmVudEVsZW1lbnQuYXBwZW5kQ2hpbGQoY2FuY2VsKTsKICBjYW5jZWwudGV4dENvbnRlbnQgPSAnQ2FuY2VsIHVwbG9hZCc7CiAgY29uc3QgY2FuY2VsUHJvbWlzZSA9IG5ldyBQcm9taXNlKChyZXNvbHZlKSA9PiB7CiAgICBjYW5jZWwub25jbGljayA9ICgpID0+IHsKICAgICAgcmVzb2x2ZShudWxsKTsKICAgIH07CiAgfSk7CgogIC8vIENhbmNlbCB1cGxvYWQgaWYgdXNlciBoYXNuJ3QgcGlja2VkIGFueXRoaW5nIGluIHRpbWVvdXQuCiAgY29uc3QgdGltZW91dFByb21pc2UgPSBuZXcgUHJvbWlzZSgocmVzb2x2ZSkgPT4gewogICAgc2V0VGltZW91dCgoKSA9PiB7CiAgICAgIHJlc29sdmUobnVsbCk7CiAgICB9LCBGSUxFX0NIQU5HRV9USU1FT1VUX01TKTsKICB9KTsKCiAgLy8gV2FpdCBmb3IgdGhlIHVzZXIgdG8gcGljayB0aGUgZmlsZXMuCiAgY29uc3QgZmlsZXMgPSB5aWVsZCB7CiAgICBwcm9taXNlOiBQcm9taXNlLnJhY2UoW3BpY2tlZFByb21pc2UsIHRpbWVvdXRQcm9taXNlLCBjYW5jZWxQcm9taXNlXSksCiAgICByZXNwb25zZTogewogICAgICBhY3Rpb246ICdzdGFydGluZycsCiAgICB9CiAgfTsKCiAgaWYgKCFmaWxlcykgewogICAgcmV0dXJuIHsKICAgICAgcmVzcG9uc2U6IHsKICAgICAgICBhY3Rpb246ICdjb21wbGV0ZScsCiAgICAgIH0KICAgIH07CiAgfQoKICBjYW5jZWwucmVtb3ZlKCk7CgogIC8vIERpc2FibGUgdGhlIGlucHV0IGVsZW1lbnQgc2luY2UgZnVydGhlciBwaWNrcyBhcmUgbm90IGFsbG93ZWQuCiAgaW5wdXRFbGVtZW50LmRpc2FibGVkID0gdHJ1ZTsKCiAgZm9yIChjb25zdCBmaWxlIG9mIGZpbGVzKSB7CiAgICBjb25zdCBsaSA9IGRvY3VtZW50LmNyZWF0ZUVsZW1lbnQoJ2xpJyk7CiAgICBsaS5hcHBlbmQoc3BhbihmaWxlLm5hbWUsIHtmb250V2VpZ2h0OiAnYm9sZCd9KSk7CiAgICBsaS5hcHBlbmQoc3BhbigKICAgICAgICBgKCR7ZmlsZS50eXBlIHx8ICduL2EnfSkgLSAke2ZpbGUuc2l6ZX0gYnl0ZXMsIGAgKwogICAgICAgIGBsYXN0IG1vZGlmaWVkOiAkewogICAgICAgICAgICBmaWxlLmxhc3RNb2RpZmllZERhdGUgPyBmaWxlLmxhc3RNb2RpZmllZERhdGUudG9Mb2NhbGVEYXRlU3RyaW5nKCkgOgogICAgICAgICAgICAgICAgICAgICAgICAgICAgICAgICAgICAnbi9hJ30gLSBgKSk7CiAgICBjb25zdCBwZXJjZW50ID0gc3BhbignMCUgZG9uZScpOwogICAgbGkuYXBwZW5kQ2hpbGQocGVyY2VudCk7CgogICAgb3V0cHV0RWxlbWVudC5hcHBlbmRDaGlsZChsaSk7CgogICAgY29uc3QgZmlsZURhdGFQcm9taXNlID0gbmV3IFByb21pc2UoKHJlc29sdmUpID0+IHsKICAgICAgY29uc3QgcmVhZGVyID0gbmV3IEZpbGVSZWFkZXIoKTsKICAgICAgcmVhZGVyLm9ubG9hZCA9IChlKSA9PiB7CiAgICAgICAgcmVzb2x2ZShlLnRhcmdldC5yZXN1bHQpOwogICAgICB9OwogICAgICByZWFkZXIucmVhZEFzQXJyYXlCdWZmZXIoZmlsZSk7CiAgICB9KTsKICAgIC8vIFdhaXQgZm9yIHRoZSBkYXRhIHRvIGJlIHJlYWR5LgogICAgbGV0IGZpbGVEYXRhID0geWllbGQgewogICAgICBwcm9taXNlOiBmaWxlRGF0YVByb21pc2UsCiAgICAgIHJlc3BvbnNlOiB7CiAgICAgICAgYWN0aW9uOiAnY29udGludWUnLAogICAgICB9CiAgICB9OwoKICAgIC8vIFVzZSBhIGNodW5rZWQgc2VuZGluZyB0byBhdm9pZCBtZXNzYWdlIHNpemUgbGltaXRzLiBTZWUgYi82MjExNTY2MC4KICAgIGxldCBwb3NpdGlvbiA9IDA7CiAgICB3aGlsZSAocG9zaXRpb24gPCBmaWxlRGF0YS5ieXRlTGVuZ3RoKSB7CiAgICAgIGNvbnN0IGxlbmd0aCA9IE1hdGgubWluKGZpbGVEYXRhLmJ5dGVMZW5ndGggLSBwb3NpdGlvbiwgTUFYX1BBWUxPQURfU0laRSk7CiAgICAgIGNvbnN0IGNodW5rID0gbmV3IFVpbnQ4QXJyYXkoZmlsZURhdGEsIHBvc2l0aW9uLCBsZW5ndGgpOwogICAgICBwb3NpdGlvbiArPSBsZW5ndGg7CgogICAgICBjb25zdCBiYXNlNjQgPSBidG9hKFN0cmluZy5mcm9tQ2hhckNvZGUuYXBwbHkobnVsbCwgY2h1bmspKTsKICAgICAgeWllbGQgewogICAgICAgIHJlc3BvbnNlOiB7CiAgICAgICAgICBhY3Rpb246ICdhcHBlbmQnLAogICAgICAgICAgZmlsZTogZmlsZS5uYW1lLAogICAgICAgICAgZGF0YTogYmFzZTY0LAogICAgICAgIH0sCiAgICAgIH07CiAgICAgIHBlcmNlbnQudGV4dENvbnRlbnQgPQogICAgICAgICAgYCR7TWF0aC5yb3VuZCgocG9zaXRpb24gLyBmaWxlRGF0YS5ieXRlTGVuZ3RoKSAqIDEwMCl9JSBkb25lYDsKICAgIH0KICB9CgogIC8vIEFsbCBkb25lLgogIHlpZWxkIHsKICAgIHJlc3BvbnNlOiB7CiAgICAgIGFjdGlvbjogJ2NvbXBsZXRlJywKICAgIH0KICB9Owp9CgpzY29wZS5nb29nbGUgPSBzY29wZS5nb29nbGUgfHwge307CnNjb3BlLmdvb2dsZS5jb2xhYiA9IHNjb3BlLmdvb2dsZS5jb2xhYiB8fCB7fTsKc2NvcGUuZ29vZ2xlLmNvbGFiLl9maWxlcyA9IHsKICBfdXBsb2FkRmlsZXMsCiAgX3VwbG9hZEZpbGVzQ29udGludWUsCn07Cn0pKHNlbGYpOwo=",
              "ok": true,
              "headers": [
                [
                  "content-type",
                  "application/javascript"
                ]
              ],
              "status": 200,
              "status_text": ""
            }
          },
          "base_uri": "https://localhost:8080/",
          "height": 40
        }
      },
      "source": [
        "uploaded = files.upload()"
      ],
      "execution_count": 0,
      "outputs": [
        {
          "output_type": "display_data",
          "data": {
            "text/html": [
              "\n",
              "     <input type=\"file\" id=\"files-8b2b6aeb-2879-4eca-9b77-3e866c919301\" name=\"files[]\" multiple disabled />\n",
              "     <output id=\"result-8b2b6aeb-2879-4eca-9b77-3e866c919301\">\n",
              "      Upload widget is only available when the cell has been executed in the\n",
              "      current browser session. Please rerun this cell to enable.\n",
              "      </output>\n",
              "      <script src=\"/nbextensions/google.colab/files.js\"></script> "
            ],
            "text/plain": [
              "<IPython.core.display.HTML object>"
            ]
          },
          "metadata": {
            "tags": []
          }
        }
      ]
    },
    {
      "cell_type": "code",
      "metadata": {
        "id": "kcqVrnlmyrD1",
        "colab_type": "code",
        "colab": {}
      },
      "source": [
        "df = pd.read_csv(\"sankey1.csv\")\n",
        "df.head(3)"
      ],
      "execution_count": 0,
      "outputs": []
    },
    {
      "cell_type": "markdown",
      "metadata": {
        "id": "ziAHzwzfr2ba",
        "colab_type": "text"
      },
      "source": [
        "Remove missing values\n"
      ]
    },
    {
      "cell_type": "code",
      "metadata": {
        "id": "4ahQFJ4odEEk",
        "colab_type": "code",
        "colab": {}
      },
      "source": [
        "# fill in 0 where there are NaNs\n",
        "df.fillna(0, inplace = True)"
      ],
      "execution_count": 0,
      "outputs": []
    },
    {
      "cell_type": "code",
      "metadata": {
        "id": "22d4i0xgufot",
        "colab_type": "code",
        "colab": {}
      },
      "source": [
        "# delete nans\n",
        "df = df.drop(df[df[\"Hazard Ratio\"]==0-00].index)\n"
      ],
      "execution_count": 0,
      "outputs": []
    },
    {
      "cell_type": "markdown",
      "metadata": {
        "id": "G7LXXK02r5d_",
        "colab_type": "text"
      },
      "source": [
        "Creating nodes values df and list"
      ]
    },
    {
      "cell_type": "code",
      "metadata": {
        "id": "_o0GFrCcvFg1",
        "colab_type": "code",
        "colab": {}
      },
      "source": [
        "# nodes\n",
        "df1 = pd.DataFrame()\n",
        "df1[\"node\"] = [1,2,3,4,5,6,7,8,9,10,11,12,13,14,15]\n",
        "#df[\"source\"].replace(to_replace =[\"Any affective disorder\",\"Any anxiety disorder\", \"Any behavior disorder\", \"Any substance use disorder\", \"Any eating disorder\",\"Any mental disorder\"],value =[1,2,3,4,5,6] )    \n",
        "df1[\"name\"] = [\"Any affective disorder\",\"Any anxiety disorder\", \"Any behavior disorder\",\"Any substance use disorder\",\"Any eating disorder\",\"Any mental disorder\",\"Arthritis\",\"Seasonal allergy\",\"Skin disease\",\"Heart disease\",\"Asthma\",\"Diabetes/high blood sugar\",\"Disease of digestive system\",\"Epilepsy/seizures\",\"Any physical disease\"]\n",
        "df1"
      ],
      "execution_count": 0,
      "outputs": []
    },
    {
      "cell_type": "code",
      "metadata": {
        "id": "MSkvcMuW4sP4",
        "colab_type": "code",
        "colab": {}
      },
      "source": [
        ""
      ],
      "execution_count": 0,
      "outputs": []
    },
    {
      "cell_type": "code",
      "metadata": {
        "id": "7623EYEGvkED",
        "colab_type": "code",
        "outputId": "d3b6d68c-c85f-4423-d020-78494b506a45",
        "colab": {
          "base_uri": "https://localhost:8080/",
          "height": 284
        }
      },
      "source": [
        "# create nodes values list of dictionaries\n",
        "nodes_list = [node for node in df1.T.to_dict().values()]\n",
        "nodes_list"
      ],
      "execution_count": 0,
      "outputs": [
        {
          "output_type": "execute_result",
          "data": {
            "text/plain": [
              "[{'name': 'Any affective disorder', 'node': 1},\n",
              " {'name': 'Any anxiety disorder', 'node': 2},\n",
              " {'name': 'Any behavior disorder', 'node': 3},\n",
              " {'name': 'Any substance use disorder', 'node': 4},\n",
              " {'name': 'Any eating disorder', 'node': 5},\n",
              " {'name': 'Any mental disorder', 'node': 6},\n",
              " {'name': 'Arthritis', 'node': 7},\n",
              " {'name': 'Seasonal allergy', 'node': 8},\n",
              " {'name': 'Skin disease', 'node': 9},\n",
              " {'name': 'Heart disease', 'node': 10},\n",
              " {'name': 'Asthma', 'node': 11},\n",
              " {'name': 'Diabetes/high blood sugar', 'node': 12},\n",
              " {'name': 'Disease of digestive system', 'node': 13},\n",
              " {'name': 'Epilepsy/seizures', 'node': 14},\n",
              " {'name': 'Any physical disease', 'node': 15}]"
            ]
          },
          "metadata": {
            "tags": []
          },
          "execution_count": 63
        }
      ]
    },
    {
      "cell_type": "markdown",
      "metadata": {
        "id": "XUAvFc6EsmyE",
        "colab_type": "text"
      },
      "source": [
        "Creating links values df and list\n"
      ]
    },
    {
      "cell_type": "code",
      "metadata": {
        "id": "8JKRDwhjVP6v",
        "colab_type": "code",
        "colab": {}
      },
      "source": [
        "# adding columns\n",
        "df[\"source\"] = df [\"Mental Disorder\"]\n",
        "df[\"target\"] = df [\"Physical Disease\"]"
      ],
      "execution_count": 0,
      "outputs": []
    },
    {
      "cell_type": "code",
      "metadata": {
        "id": "VKLkQQLLcYUw",
        "colab_type": "code",
        "colab": {}
      },
      "source": [
        "# links replacing string values with integers\n",
        "df2 = pd.DataFrame()\n",
        "df2[\"source\"] = df[\"source\"].replace(to_replace =[\"Any affective disorder\",\"Any anxiety disorder\", \"Any behavior disorder\", \"Any substance use disorder\", \"Any eating disorder\",\"Any mental disorder\"],value =[1,2,3,4,5,6] )    \n",
        "df2[\"target\"] = df[\"target\"].replace(to_replace =[\"Arthritis\",\"Seasonal allergy\",\"Skin disease\",\"Heart disease\",\"Asthma\",\"Diabetes/high blood sugar\",\"Disease of digestive system\",\"Epilepsy/seizures\",\"Any physical disease\"], value =[7,8,9,10,11,12,13,14,15])\n",
        "df2[\"value\"]= df[\"Hazard Ratio\"]\n",
        "df2.head(5)                                      "
      ],
      "execution_count": 0,
      "outputs": []
    },
    {
      "cell_type": "code",
      "metadata": {
        "id": "mZnW-npbuX3K",
        "colab_type": "code",
        "outputId": "d465206c-c00a-44bc-d463-ed0f653ad829",
        "colab": {
          "base_uri": "https://localhost:8080/",
          "height": 977
        }
      },
      "source": [
        "# create links values list of dictionaries \n",
        "links_list = [link for link in df2.T.to_dict().values()]\n",
        "links_list"
      ],
      "execution_count": 0,
      "outputs": [
        {
          "output_type": "execute_result",
          "data": {
            "text/plain": [
              "[{'source': 1.0, 'target': 7.0, 'value': 3.07},\n",
              " {'source': 2.0, 'target': 7.0, 'value': 2.15},\n",
              " {'source': 3.0, 'target': 7.0, 'value': 0.0},\n",
              " {'source': 4.0, 'target': 7.0, 'value': 0.0},\n",
              " {'source': 5.0, 'target': 7.0, 'value': 0.0},\n",
              " {'source': 6.0, 'target': 7.0, 'value': 1.98},\n",
              " {'source': 1.0, 'target': 8.0, 'value': 0.0},\n",
              " {'source': 2.0, 'target': 8.0, 'value': 0.0},\n",
              " {'source': 3.0, 'target': 8.0, 'value': 0.0},\n",
              " {'source': 4.0, 'target': 8.0, 'value': 0.31},\n",
              " {'source': 5.0, 'target': 8.0, 'value': 0.0},\n",
              " {'source': 6.0, 'target': 8.0, 'value': 0.0},\n",
              " {'source': 1.0, 'target': 9.0, 'value': 0.76},\n",
              " {'source': 2.0, 'target': 9.0, 'value': 1.52},\n",
              " {'source': 3.0, 'target': 9.0, 'value': 0.91},\n",
              " {'source': 4.0, 'target': 9.0, 'value': 0.7},\n",
              " {'source': 5.0, 'target': 9.0, 'value': 0.38},\n",
              " {'source': 6.0, 'target': 9.0, 'value': 1.2},\n",
              " {'source': 1.0, 'target': 10.0, 'value': 0.0},\n",
              " {'source': 2.0, 'target': 10.0, 'value': 1.81},\n",
              " {'source': 3.0, 'target': 10.0, 'value': 2.14},\n",
              " {'source': 4.0, 'target': 10.0, 'value': 0.0},\n",
              " {'source': 5.0, 'target': 10.0, 'value': 0.0},\n",
              " {'source': 6.0, 'target': 10.0, 'value': 0.0},\n",
              " {'source': 1.0, 'target': 11.0, 'value': 0.0},\n",
              " {'source': 2.0, 'target': 11.0, 'value': 0.0},\n",
              " {'source': 3.0, 'target': 11.0, 'value': 0.0},\n",
              " {'source': 4.0, 'target': 11.0, 'value': 0.4},\n",
              " {'source': 5.0, 'target': 11.0, 'value': 0.0},\n",
              " {'source': 6.0, 'target': 11.0, 'value': 0.0},\n",
              " {'source': 1.0, 'target': 12.0, 'value': 1.29},\n",
              " {'source': 2.0, 'target': 12.0, 'value': 0.0},\n",
              " {'source': 3.0, 'target': 12.0, 'value': 0.0},\n",
              " {'source': 4.0, 'target': 12.0, 'value': 0.0},\n",
              " {'source': 5.0, 'target': 12.0, 'value': 0.0},\n",
              " {'source': 6.0, 'target': 12.0, 'value': 0.67},\n",
              " {'source': 1.0, 'target': 13.0, 'value': 3.87},\n",
              " {'source': 2.0, 'target': 13.0, 'value': 2.36},\n",
              " {'source': 3.0, 'target': 13.0, 'value': 2.04},\n",
              " {'source': 4.0, 'target': 13.0, 'value': 2.41},\n",
              " {'source': 5.0, 'target': 13.0, 'value': 0.0},\n",
              " {'source': 6.0, 'target': 13.0, 'value': 2.15},\n",
              " {'source': 1.0, 'target': 14.0, 'value': 1.89},\n",
              " {'source': 2.0, 'target': 14.0, 'value': 3.01},\n",
              " {'source': 3.0, 'target': 14.0, 'value': 1.53},\n",
              " {'source': 4.0, 'target': 14.0, 'value': 2.2},\n",
              " {'source': 5.0, 'target': 14.0, 'value': 0.0},\n",
              " {'source': 6.0, 'target': 14.0, 'value': 3.65},\n",
              " {'source': 1.0, 'target': 15.0, 'value': 0.94},\n",
              " {'source': 2.0, 'target': 15.0, 'value': 1.28},\n",
              " {'source': 3.0, 'target': 15.0, 'value': 0.0},\n",
              " {'source': 4.0, 'target': 15.0, 'value': 0.71},\n",
              " {'source': 5.0, 'target': 15.0, 'value': 0.7},\n",
              " {'source': 6.0, 'target': 15.0, 'value': 1.15}]"
            ]
          },
          "metadata": {
            "tags": []
          },
          "execution_count": 66
        }
      ]
    },
    {
      "cell_type": "markdown",
      "metadata": {
        "id": "Gfzf9wFws83d",
        "colab_type": "text"
      },
      "source": [
        "Creating Dictionairy and saving as json\n"
      ]
    },
    {
      "cell_type": "code",
      "metadata": {
        "id": "z097vShFRKh9",
        "colab_type": "code",
        "outputId": "a0b916e2-7dcb-4dc3-d6ed-37a2d82634a0",
        "colab": {
          "base_uri": "https://localhost:8080/",
          "height": 1000
        }
      },
      "source": [
        "# create outer dictionairy \n",
        "outer_dic = dict([(\"links\", links_list),(\"nodes\", nodes_list)])\n",
        "outer_dic"
      ],
      "execution_count": 0,
      "outputs": [
        {
          "output_type": "execute_result",
          "data": {
            "text/plain": [
              "{'links': [{'source': 1.0, 'target': 7.0, 'value': 3.07},\n",
              "  {'source': 2.0, 'target': 7.0, 'value': 2.15},\n",
              "  {'source': 3.0, 'target': 7.0, 'value': 0.0},\n",
              "  {'source': 4.0, 'target': 7.0, 'value': 0.0},\n",
              "  {'source': 5.0, 'target': 7.0, 'value': 0.0},\n",
              "  {'source': 6.0, 'target': 7.0, 'value': 1.98},\n",
              "  {'source': 1.0, 'target': 8.0, 'value': 0.0},\n",
              "  {'source': 2.0, 'target': 8.0, 'value': 0.0},\n",
              "  {'source': 3.0, 'target': 8.0, 'value': 0.0},\n",
              "  {'source': 4.0, 'target': 8.0, 'value': 0.31},\n",
              "  {'source': 5.0, 'target': 8.0, 'value': 0.0},\n",
              "  {'source': 6.0, 'target': 8.0, 'value': 0.0},\n",
              "  {'source': 1.0, 'target': 9.0, 'value': 0.76},\n",
              "  {'source': 2.0, 'target': 9.0, 'value': 1.52},\n",
              "  {'source': 3.0, 'target': 9.0, 'value': 0.91},\n",
              "  {'source': 4.0, 'target': 9.0, 'value': 0.7},\n",
              "  {'source': 5.0, 'target': 9.0, 'value': 0.38},\n",
              "  {'source': 6.0, 'target': 9.0, 'value': 1.2},\n",
              "  {'source': 1.0, 'target': 10.0, 'value': 0.0},\n",
              "  {'source': 2.0, 'target': 10.0, 'value': 1.81},\n",
              "  {'source': 3.0, 'target': 10.0, 'value': 2.14},\n",
              "  {'source': 4.0, 'target': 10.0, 'value': 0.0},\n",
              "  {'source': 5.0, 'target': 10.0, 'value': 0.0},\n",
              "  {'source': 6.0, 'target': 10.0, 'value': 0.0},\n",
              "  {'source': 1.0, 'target': 11.0, 'value': 0.0},\n",
              "  {'source': 2.0, 'target': 11.0, 'value': 0.0},\n",
              "  {'source': 3.0, 'target': 11.0, 'value': 0.0},\n",
              "  {'source': 4.0, 'target': 11.0, 'value': 0.4},\n",
              "  {'source': 5.0, 'target': 11.0, 'value': 0.0},\n",
              "  {'source': 6.0, 'target': 11.0, 'value': 0.0},\n",
              "  {'source': 1.0, 'target': 12.0, 'value': 1.29},\n",
              "  {'source': 2.0, 'target': 12.0, 'value': 0.0},\n",
              "  {'source': 3.0, 'target': 12.0, 'value': 0.0},\n",
              "  {'source': 4.0, 'target': 12.0, 'value': 0.0},\n",
              "  {'source': 5.0, 'target': 12.0, 'value': 0.0},\n",
              "  {'source': 6.0, 'target': 12.0, 'value': 0.67},\n",
              "  {'source': 1.0, 'target': 13.0, 'value': 3.87},\n",
              "  {'source': 2.0, 'target': 13.0, 'value': 2.36},\n",
              "  {'source': 3.0, 'target': 13.0, 'value': 2.04},\n",
              "  {'source': 4.0, 'target': 13.0, 'value': 2.41},\n",
              "  {'source': 5.0, 'target': 13.0, 'value': 0.0},\n",
              "  {'source': 6.0, 'target': 13.0, 'value': 2.15},\n",
              "  {'source': 1.0, 'target': 14.0, 'value': 1.89},\n",
              "  {'source': 2.0, 'target': 14.0, 'value': 3.01},\n",
              "  {'source': 3.0, 'target': 14.0, 'value': 1.53},\n",
              "  {'source': 4.0, 'target': 14.0, 'value': 2.2},\n",
              "  {'source': 5.0, 'target': 14.0, 'value': 0.0},\n",
              "  {'source': 6.0, 'target': 14.0, 'value': 3.65},\n",
              "  {'source': 1.0, 'target': 15.0, 'value': 0.94},\n",
              "  {'source': 2.0, 'target': 15.0, 'value': 1.28},\n",
              "  {'source': 3.0, 'target': 15.0, 'value': 0.0},\n",
              "  {'source': 4.0, 'target': 15.0, 'value': 0.71},\n",
              "  {'source': 5.0, 'target': 15.0, 'value': 0.7},\n",
              "  {'source': 6.0, 'target': 15.0, 'value': 1.15}],\n",
              " 'nodes': [{'name': 'Any affective disorder', 'node': 1},\n",
              "  {'name': 'Any anxiety disorder', 'node': 2},\n",
              "  {'name': 'Any behavior disorder', 'node': 3},\n",
              "  {'name': 'Any substance use disorder', 'node': 4},\n",
              "  {'name': 'Any eating disorder', 'node': 5},\n",
              "  {'name': 'Any mental disorder', 'node': 6},\n",
              "  {'name': 'Arthritis', 'node': 7},\n",
              "  {'name': 'Seasonal allergy', 'node': 8},\n",
              "  {'name': 'Skin disease', 'node': 9},\n",
              "  {'name': 'Heart disease', 'node': 10},\n",
              "  {'name': 'Asthma', 'node': 11},\n",
              "  {'name': 'Diabetes/high blood sugar', 'node': 12},\n",
              "  {'name': 'Disease of digestive system', 'node': 13},\n",
              "  {'name': 'Epilepsy/seizures', 'node': 14},\n",
              "  {'name': 'Any physical disease', 'node': 15}]}"
            ]
          },
          "metadata": {
            "tags": []
          },
          "execution_count": 67
        }
      ]
    },
    {
      "cell_type": "code",
      "metadata": {
        "id": "vuJd6358wFhI",
        "colab_type": "code",
        "colab": {}
      },
      "source": [
        "with open('MH_PD_comorb_with_zero.json', 'w') as json_file:\n",
        "  json.dump(outer_dic, json_file)"
      ],
      "execution_count": 0,
      "outputs": []
    },
    {
      "cell_type": "code",
      "metadata": {
        "id": "dhAYdR-PGoWO",
        "colab_type": "code",
        "colab": {}
      },
      "source": [
        "files.download(\"MH_PD_comorb_with_zero.json\")"
      ],
      "execution_count": 0,
      "outputs": []
    },
    {
      "cell_type": "code",
      "metadata": {
        "id": "f9HeEh2_3cRR",
        "colab_type": "code",
        "colab": {}
      },
      "source": [
        ""
      ],
      "execution_count": 0,
      "outputs": []
    },
    {
      "cell_type": "code",
      "metadata": {
        "id": "B4JmepSr3cbd",
        "colab_type": "code",
        "colab": {}
      },
      "source": [
        ""
      ],
      "execution_count": 0,
      "outputs": []
    },
    {
      "cell_type": "code",
      "metadata": {
        "id": "Kh6Y0FEp3cl7",
        "colab_type": "code",
        "colab": {}
      },
      "source": [
        "json_dict = json.dumps(outer_dic)\n",
        "json_dict"
      ],
      "execution_count": 0,
      "outputs": []
    },
    {
      "cell_type": "code",
      "metadata": {
        "id": "AfVNZGHcGois",
        "colab_type": "code",
        "colab": {}
      },
      "source": [
        "# create df for download\n",
        "dic_df = pd.DataFrame(outer_dic)"
      ],
      "execution_count": 0,
      "outputs": []
    },
    {
      "cell_type": "code",
      "metadata": {
        "id": "lUXXsqYxGovV",
        "colab_type": "code",
        "colab": {}
      },
      "source": [
        "# download json file\n",
        "dic_df.to_json('MH_PD_json.json')\n",
        "files.download(\"MH_PD_json.json\")"
      ],
      "execution_count": 0,
      "outputs": []
    },
    {
      "cell_type": "code",
      "metadata": {
        "id": "26aNR6FmwFY9",
        "colab_type": "code",
        "colab": {}
      },
      "source": [
        "# creat json file\n",
        "MH_PD_json = json.dumps(outer_dic)"
      ],
      "execution_count": 0,
      "outputs": []
    },
    {
      "cell_type": "code",
      "metadata": {
        "id": "ivNNZ8c81he5",
        "colab_type": "code",
        "colab": {}
      },
      "source": [
        "mylist = list(df2.T.to_dict().values())\n",
        "mylist"
      ],
      "execution_count": 0,
      "outputs": []
    },
    {
      "cell_type": "code",
      "metadata": {
        "id": "ZZXSzVgC1hiI",
        "colab_type": "code",
        "colab": {}
      },
      "source": [
        "dic_df.head(10)"
      ],
      "execution_count": 0,
      "outputs": []
    },
    {
      "cell_type": "code",
      "metadata": {
        "id": "48KyD91FRLg4",
        "colab_type": "code",
        "colab": {}
      },
      "source": [
        "linksvalue = df.T.to_dict().values()"
      ],
      "execution_count": 0,
      "outputs": []
    },
    {
      "cell_type": "code",
      "metadata": {
        "id": "BnLxm7crRfgT",
        "colab_type": "code",
        "outputId": "94a3595a-d5ae-4a5c-f009-f6f89c55685e",
        "colab": {
          "base_uri": "https://localhost:8080/",
          "height": 102
        }
      },
      "source": [
        "list1 = df[\"Mental Disorder\"].tolist()\n",
        "nodevalue = [dict(MentalDisorder=x) for x in list1]\n",
        "nodevalue[0:5]"
      ],
      "execution_count": 0,
      "outputs": [
        {
          "output_type": "execute_result",
          "data": {
            "text/plain": [
              "[{'MentalDisorder': 'Any affective disorder'},\n",
              " {'MentalDisorder': 'Any anxiety disorder'},\n",
              " {'MentalDisorder': 'Any behavior disorder'},\n",
              " {'MentalDisorder': 'Any substance use disorder'},\n",
              " {'MentalDisorder': 'Any eating disorder'}]"
            ]
          },
          "metadata": {
            "tags": []
          },
          "execution_count": 56
        }
      ]
    },
    {
      "cell_type": "code",
      "metadata": {
        "id": "nI-bZLCCWvZ7",
        "colab_type": "code",
        "colab": {}
      },
      "source": [
        "df.drop(\"Physical Disease\", inplaceoh)"
      ],
      "execution_count": 0,
      "outputs": []
    },
    {
      "cell_type": "code",
      "metadata": {
        "id": "3x3QZP2N9caB",
        "colab_type": "code",
        "colab": {}
      },
      "source": [
        "MD_list = df['Mental Disorder'].tolist()\n",
        "PD_list = df['Physical Disease'].tolist()\n",
        "HR_list = df['Hazard Ratio'].tolist()"
      ],
      "execution_count": 0,
      "outputs": []
    },
    {
      "cell_type": "code",
      "metadata": {
        "id": "7hO-13E7f6Pn",
        "colab_type": "code",
        "colab": {}
      },
      "source": [
        "df[\"target\"].value_counts()"
      ],
      "execution_count": 0,
      "outputs": []
    },
    {
      "cell_type": "code",
      "metadata": {
        "id": "4TC_tSppMAXA",
        "colab_type": "code",
        "colab": {}
      },
      "source": [
        "x = zip(MD_list, PD_list_HR_list)"
      ],
      "execution_count": 0,
      "outputs": []
    },
    {
      "cell_type": "code",
      "metadata": {
        "id": "b9qEY9IHVkhh",
        "colab_type": "code",
        "outputId": "fadfa12f-e3de-4076-9ec3-dbe53ac516e7",
        "colab": {
          "base_uri": "https://localhost:8080/",
          "height": 54
        }
      },
      "source": [
        "df[\"Mental Disorder\"].T.to_dict().values()"
      ],
      "execution_count": 0,
      "outputs": [
        {
          "output_type": "execute_result",
          "data": {
            "text/plain": [
              "dict_values(['Any affective disorder', 'Any anxiety disorder', 'Any behavior disorder', 'Any substance use disorder', 'Any eating disorder', 'Any mental disorder', 'Any affective disorder', 'Any anxiety disorder', 'Any behavior disorder', 'Any substance use disorder', 'Any eating disorder', 'Any mental disorder', 'Any affective disorder', 'Any anxiety disorder', 'Any behavior disorder', 'Any substance use disorder', 'Any eating disorder', 'Any mental disorder', 'Any affective disorder', 'Any anxiety disorder', 'Any behavior disorder', 'Any substance use disorder', 'Any eating disorder', 'Any mental disorder', 'Any affective disorder', 'Any anxiety disorder', 'Any behavior disorder', 'Any substance use disorder', 'Any eating disorder', 'Any mental disorder', 'Any affective disorder', 'Any anxiety disorder', 'Any behavior disorder', 'Any substance use disorder', 'Any eating disorder', 'Any mental disorder', 'Any affective disorder', 'Any anxiety disorder', 'Any behavior disorder', 'Any substance use disorder', 'Any eating disorder', 'Any mental disorder', 'Any affective disorder', 'Any anxiety disorder', 'Any behavior disorder', 'Any substance use disorder', 'Any eating disorder', 'Any mental disorder', 'Any affective disorder', 'Any anxiety disorder', 'Any behavior disorder', 'Any substance use disorder', 'Any eating disorder', 'Any mental disorder'])"
            ]
          },
          "metadata": {
            "tags": []
          },
          "execution_count": 40
        }
      ]
    },
    {
      "cell_type": "code",
      "metadata": {
        "id": "JvMrSrLGy-k2",
        "colab_type": "code",
        "outputId": "c25ebfa8-4c2a-460c-8077-d9910d6da7bc",
        "colab": {
          "base_uri": "https://localhost:8080/",
          "height": 34
        }
      },
      "source": [
        "outer_dic = dict([(\"node\", nodevalue),(\"links\", linksvalue)])\n",
        "outer_dic"
      ],
      "execution_count": 0,
      "outputs": [
        {
          "output_type": "execute_result",
          "data": {
            "text/plain": [
              "{'links': [], 'node': []}"
            ]
          },
          "metadata": {
            "tags": []
          },
          "execution_count": 27
        }
      ]
    },
    {
      "cell_type": "code",
      "metadata": {
        "id": "HCaMpeSdOt0f",
        "colab_type": "code",
        "outputId": "f5d210bb-ba3d-4db0-d51f-ae8059ed2a06",
        "colab": {
          "base_uri": "https://localhost:8080/",
          "height": 54
        }
      },
      "source": [
        "inner_dict = df.T.to_dict().values()it"
      ],
      "execution_count": 0,
      "outputs": [
        {
          "output_type": "execute_result",
          "data": {
            "text/plain": [
              "dict_values([{'Mental Disorder': 'Any affective disorder', 'Physical Disease': 'Arthritis', 'Hazard Ratio': 3.07}, {'Mental Disorder': 'Any anxiety disorder', 'Physical Disease': 'Arthritis', 'Hazard Ratio': 2.15}, {'Mental Disorder': 'Any behavior disorder', 'Physical Disease': 'Arthritis', 'Hazard Ratio': nan}, {'Mental Disorder': 'Any substance use disorder', 'Physical Disease': 'Arthritis', 'Hazard Ratio': nan}, {'Mental Disorder': 'Any eating disorder', 'Physical Disease': 'Arthritis', 'Hazard Ratio': nan}, {'Mental Disorder': 'Any mental disorder', 'Physical Disease': 'Arthritis', 'Hazard Ratio': 1.98}, {'Mental Disorder': 'Any affective disorder', 'Physical Disease': 'Seasonal allergy', 'Hazard Ratio': nan}, {'Mental Disorder': 'Any anxiety disorder', 'Physical Disease': 'Seasonal allergy', 'Hazard Ratio': nan}, {'Mental Disorder': 'Any behavior disorder', 'Physical Disease': 'Seasonal allergy', 'Hazard Ratio': nan}, {'Mental Disorder': 'Any substance use disorder', 'Physical Disease': 'Seasonal allergy', 'Hazard Ratio': 0.31}, {'Mental Disorder': 'Any eating disorder', 'Physical Disease': 'Seasonal allergy', 'Hazard Ratio': nan}, {'Mental Disorder': 'Any mental disorder', 'Physical Disease': 'Seasonal allergy', 'Hazard Ratio': nan}, {'Mental Disorder': 'Any affective disorder', 'Physical Disease': 'Skin disease', 'Hazard Ratio': 0.76}, {'Mental Disorder': 'Any anxiety disorder', 'Physical Disease': 'Skin disease', 'Hazard Ratio': 1.52}, {'Mental Disorder': 'Any behavior disorder', 'Physical Disease': 'Skin disease', 'Hazard Ratio': 0.91}, {'Mental Disorder': 'Any substance use disorder', 'Physical Disease': 'Skin disease', 'Hazard Ratio': 0.7}, {'Mental Disorder': 'Any eating disorder', 'Physical Disease': 'Skin disease', 'Hazard Ratio': 0.38}, {'Mental Disorder': 'Any mental disorder', 'Physical Disease': 'Skin disease', 'Hazard Ratio': 1.2}, {'Mental Disorder': 'Any affective disorder', 'Physical Disease': 'Heart disease', 'Hazard Ratio': nan}, {'Mental Disorder': 'Any anxiety disorder', 'Physical Disease': 'Heart disease', 'Hazard Ratio': 1.81}, {'Mental Disorder': 'Any behavior disorder', 'Physical Disease': 'Heart disease', 'Hazard Ratio': 2.14}, {'Mental Disorder': 'Any substance use disorder', 'Physical Disease': 'Heart disease', 'Hazard Ratio': nan}, {'Mental Disorder': 'Any eating disorder', 'Physical Disease': 'Heart disease', 'Hazard Ratio': nan}, {'Mental Disorder': 'Any mental disorder', 'Physical Disease': 'Heart disease', 'Hazard Ratio': nan}, {'Mental Disorder': 'Any affective disorder', 'Physical Disease': 'Asthma', 'Hazard Ratio': nan}, {'Mental Disorder': 'Any anxiety disorder', 'Physical Disease': 'Asthma', 'Hazard Ratio': nan}, {'Mental Disorder': 'Any behavior disorder', 'Physical Disease': 'Asthma', 'Hazard Ratio': nan}, {'Mental Disorder': 'Any substance use disorder', 'Physical Disease': 'Asthma', 'Hazard Ratio': 0.4}, {'Mental Disorder': 'Any eating disorder', 'Physical Disease': 'Asthma', 'Hazard Ratio': nan}, {'Mental Disorder': 'Any mental disorder', 'Physical Disease': 'Asthma', 'Hazard Ratio': nan}, {'Mental Disorder': 'Any affective disorder', 'Physical Disease': 'Diabetes/high blood sugar', 'Hazard Ratio': 1.29}, {'Mental Disorder': 'Any anxiety disorder', 'Physical Disease': 'Diabetes/high blood sugar', 'Hazard Ratio': nan}, {'Mental Disorder': 'Any behavior disorder', 'Physical Disease': 'Diabetes/high blood sugar', 'Hazard Ratio': nan}, {'Mental Disorder': 'Any substance use disorder', 'Physical Disease': 'Diabetes/high blood sugar', 'Hazard Ratio': nan}, {'Mental Disorder': 'Any eating disorder', 'Physical Disease': 'Diabetes/high blood sugar', 'Hazard Ratio': nan}, {'Mental Disorder': 'Any mental disorder', 'Physical Disease': 'Diabetes/high blood sugar', 'Hazard Ratio': 0.67}, {'Mental Disorder': 'Any affective disorder', 'Physical Disease': 'Disease of digestive system', 'Hazard Ratio': 3.87}, {'Mental Disorder': 'Any anxiety disorder', 'Physical Disease': 'Disease of digestive system', 'Hazard Ratio': 2.36}, {'Mental Disorder': 'Any behavior disorder', 'Physical Disease': 'Disease of digestive system', 'Hazard Ratio': 2.04}, {'Mental Disorder': 'Any substance use disorder', 'Physical Disease': 'Disease of digestive system', 'Hazard Ratio': 2.41}, {'Mental Disorder': 'Any eating disorder', 'Physical Disease': 'Disease of digestive system', 'Hazard Ratio': nan}, {'Mental Disorder': 'Any mental disorder', 'Physical Disease': 'Disease of digestive system', 'Hazard Ratio': 2.15}, {'Mental Disorder': 'Any affective disorder', 'Physical Disease': 'Epilepsy/seizures', 'Hazard Ratio': 1.89}, {'Mental Disorder': 'Any anxiety disorder', 'Physical Disease': 'Epilepsy/seizures', 'Hazard Ratio': 3.01}, {'Mental Disorder': 'Any behavior disorder', 'Physical Disease': 'Epilepsy/seizures', 'Hazard Ratio': 1.53}, {'Mental Disorder': 'Any substance use disorder', 'Physical Disease': 'Epilepsy/seizures', 'Hazard Ratio': 2.2}, {'Mental Disorder': 'Any eating disorder', 'Physical Disease': 'Epilepsy/seizures', 'Hazard Ratio': nan}, {'Mental Disorder': 'Any mental disorder', 'Physical Disease': 'Epilepsy/seizures', 'Hazard Ratio': 3.65}, {'Mental Disorder': 'Any affective disorder', 'Physical Disease': 'Any physical disease', 'Hazard Ratio': 0.94}, {'Mental Disorder': 'Any anxiety disorder', 'Physical Disease': 'Any physical disease', 'Hazard Ratio': 1.28}, {'Mental Disorder': 'Any behavior disorder', 'Physical Disease': 'Any physical disease', 'Hazard Ratio': nan}, {'Mental Disorder': 'Any substance use disorder', 'Physical Disease': 'Any physical disease', 'Hazard Ratio': 0.71}, {'Mental Disorder': 'Any eating disorder', 'Physical Disease': 'Any physical disease', 'Hazard Ratio': 0.7}, {'Mental Disorder': 'Any mental disorder', 'Physical Disease': 'Any physical disease', 'Hazard Ratio': 1.15}])"
            ]
          },
          "metadata": {
            "tags": []
          },
          "execution_count": 35
        }
      ]
    },
    {
      "cell_type": "code",
      "metadata": {
        "id": "tWYWb8DmJ2C-",
        "colab_type": "code",
        "colab": {}
      },
      "source": [
        "mydict = MD_list + PD_list + HR_list\n",
        "mydict"
      ],
      "execution_count": 0,
      "outputs": []
    },
    {
      "cell_type": "code",
      "metadata": {
        "id": "LsyPASFmzuur",
        "colab_type": "code",
        "colab": {}
      },
      "source": [
        "san_dict = {}\n",
        "a = [\"Nick\", \"Alice\", \"Kitty\"]\n",
        "b = [\"Programmer\", \"Engineer\", \"Art Therapist\"]\n",
        "for i in range(len(a)):\n",
        "    san_dict[a[i]] = b[i]"
      ],
      "execution_count": 0,
      "outputs": []
    },
    {
      "cell_type": "code",
      "metadata": {
        "id": "eULy6_e-z0dM",
        "colab_type": "code",
        "outputId": "7da37968-a5c5-48d8-ad1c-c2fcf2d3e9d7",
        "colab": {
          "base_uri": "https://localhost:8080/",
          "height": 34
        }
      },
      "source": [
        "san_dict"
      ],
      "execution_count": 0,
      "outputs": [
        {
          "output_type": "execute_result",
          "data": {
            "text/plain": [
              "{'Alice': 'Engineer', 'Kitty': 'Art Therapist', 'Nick': 'Programmer'}"
            ]
          },
          "metadata": {
            "tags": []
          },
          "execution_count": 19
        }
      ]
    },
    {
      "cell_type": "code",
      "metadata": {
        "id": "Fzsgfdw-ujPo",
        "colab_type": "code",
        "colab": {}
      },
      "source": [
        "json_data = json.dumps(data)"
      ],
      "execution_count": 0,
      "outputs": []
    },
    {
      "cell_type": "code",
      "metadata": {
        "id": "4BSCvy9S3MSs",
        "colab_type": "code",
        "colab": {}
      },
      "source": [
        "# One big dictionary with two keys and their values being lists of dictionnairies \n",
        "# dictionary{nodes: [node: disorder_index, name: disorder_name],\n",
        "# [links: [{source: disorder_index, target: PD_disorder_index, weight: hazard_ratio}]}\n",
        "# {\"nodes\":[], links:[{source: 0, target: }]}\n",
        "# Any affective disorder\t= 1\n",
        "# Any anxiety disorder = 2 \n",
        "# Any behavior disorder\t=3\n",
        "# Any substance use disorder = 4\n",
        "# Any eating disorder\t = 5\n",
        "# Any mental disorder\t = 6\n",
        "# Arthritis\t= 7\n",
        "# Seasonal allergy = 8\n",
        "# Skin disease = 9\n",
        "# Heart disease = 10\n",
        "# Asthma = 11\n",
        "# Diabetes/high blood sugar = 12\n",
        "# Disease of digestive system\t= 13\n",
        "# Epilepsy/seizures\t= 14\n",
        "# Any physical disease = 15\n",
        "# # (1. Replace Mental Disorders with numbers)\n",
        "# build big dictionary with key and value\n",
        "# build lists with dictionnairies \n",
        "# append lists to outer_dic\n"
      ],
      "execution_count": 0,
      "outputs": []
    }
  ]
}